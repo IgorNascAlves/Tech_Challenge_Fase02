{
 "cells": [
  {
   "cell_type": "code",
   "execution_count": 15,
   "metadata": {},
   "outputs": [],
   "source": [
    "import pandas as pd"
   ]
  },
  {
   "cell_type": "code",
   "execution_count": 16,
   "metadata": {},
   "outputs": [
    {
     "data": {
      "text/html": [
       "<div>\n",
       "<style scoped>\n",
       "    .dataframe tbody tr th:only-of-type {\n",
       "        vertical-align: middle;\n",
       "    }\n",
       "\n",
       "    .dataframe tbody tr th {\n",
       "        vertical-align: top;\n",
       "    }\n",
       "\n",
       "    .dataframe thead th {\n",
       "        text-align: right;\n",
       "    }\n",
       "</style>\n",
       "<table border=\"1\" class=\"dataframe\">\n",
       "  <thead>\n",
       "    <tr style=\"text-align: right;\">\n",
       "      <th></th>\n",
       "      <th>Data</th>\n",
       "      <th>Último</th>\n",
       "      <th>Abertura</th>\n",
       "      <th>Máxima</th>\n",
       "      <th>Mínima</th>\n",
       "      <th>Vol.</th>\n",
       "      <th>Var%</th>\n",
       "    </tr>\n",
       "  </thead>\n",
       "  <tbody>\n",
       "    <tr>\n",
       "      <th>0</th>\n",
       "      <td>2000-12-27</td>\n",
       "      <td>15186</td>\n",
       "      <td>14805</td>\n",
       "      <td>15223</td>\n",
       "      <td>14805</td>\n",
       "      <td>239,98M</td>\n",
       "      <td>2,65%</td>\n",
       "    </tr>\n",
       "    <tr>\n",
       "      <th>1</th>\n",
       "      <td>2000-12-28</td>\n",
       "      <td>15259</td>\n",
       "      <td>15188</td>\n",
       "      <td>15269</td>\n",
       "      <td>15132</td>\n",
       "      <td>324,26M</td>\n",
       "      <td>0,48%</td>\n",
       "    </tr>\n",
       "    <tr>\n",
       "      <th>2</th>\n",
       "      <td>2001-01-02</td>\n",
       "      <td>15425</td>\n",
       "      <td>15242</td>\n",
       "      <td>15621</td>\n",
       "      <td>15174</td>\n",
       "      <td>230,63M</td>\n",
       "      <td>1,09%</td>\n",
       "    </tr>\n",
       "    <tr>\n",
       "      <th>3</th>\n",
       "      <td>2001-01-03</td>\n",
       "      <td>16599</td>\n",
       "      <td>15425</td>\n",
       "      <td>16599</td>\n",
       "      <td>15251</td>\n",
       "      <td>381,20M</td>\n",
       "      <td>7,61%</td>\n",
       "    </tr>\n",
       "    <tr>\n",
       "      <th>4</th>\n",
       "      <td>2001-01-04</td>\n",
       "      <td>16675</td>\n",
       "      <td>16597</td>\n",
       "      <td>16933</td>\n",
       "      <td>16587</td>\n",
       "      <td>331,23M</td>\n",
       "      <td>0,46%</td>\n",
       "    </tr>\n",
       "    <tr>\n",
       "      <th>...</th>\n",
       "      <td>...</td>\n",
       "      <td>...</td>\n",
       "      <td>...</td>\n",
       "      <td>...</td>\n",
       "      <td>...</td>\n",
       "      <td>...</td>\n",
       "      <td>...</td>\n",
       "    </tr>\n",
       "    <tr>\n",
       "      <th>5602</th>\n",
       "      <td>2023-08-10</td>\n",
       "      <td>11835</td>\n",
       "      <td>118412</td>\n",
       "      <td>119438</td>\n",
       "      <td>118113</td>\n",
       "      <td>12,69M</td>\n",
       "      <td>-0,05%</td>\n",
       "    </tr>\n",
       "    <tr>\n",
       "      <th>5603</th>\n",
       "      <td>2023-08-11</td>\n",
       "      <td>118065</td>\n",
       "      <td>11835</td>\n",
       "      <td>119054</td>\n",
       "      <td>117415</td>\n",
       "      <td>11,87M</td>\n",
       "      <td>-0,24%</td>\n",
       "    </tr>\n",
       "    <tr>\n",
       "      <th>5604</th>\n",
       "      <td>2023-08-14</td>\n",
       "      <td>11681</td>\n",
       "      <td>118067</td>\n",
       "      <td>118082</td>\n",
       "      <td>11653</td>\n",
       "      <td>11,20M</td>\n",
       "      <td>-1,06%</td>\n",
       "    </tr>\n",
       "    <tr>\n",
       "      <th>5605</th>\n",
       "      <td>2023-08-15</td>\n",
       "      <td>116171</td>\n",
       "      <td>116809</td>\n",
       "      <td>117697</td>\n",
       "      <td>116033</td>\n",
       "      <td>14,64M</td>\n",
       "      <td>-0,55%</td>\n",
       "    </tr>\n",
       "    <tr>\n",
       "      <th>5606</th>\n",
       "      <td>2023-08-16</td>\n",
       "      <td>115592</td>\n",
       "      <td>116171</td>\n",
       "      <td>117338</td>\n",
       "      <td>115534</td>\n",
       "      <td>18,86M</td>\n",
       "      <td>-0,50%</td>\n",
       "    </tr>\n",
       "  </tbody>\n",
       "</table>\n",
       "<p>5607 rows × 7 columns</p>\n",
       "</div>"
      ],
      "text/plain": [
       "            Data  Último  Abertura  Máxima  Mínima     Vol.    Var%\n",
       "0     2000-12-27   15186     14805   15223   14805  239,98M   2,65%\n",
       "1     2000-12-28   15259     15188   15269   15132  324,26M   0,48%\n",
       "2     2001-01-02   15425     15242   15621   15174  230,63M   1,09%\n",
       "3     2001-01-03   16599     15425   16599   15251  381,20M   7,61%\n",
       "4     2001-01-04   16675     16597   16933   16587  331,23M   0,46%\n",
       "...          ...     ...       ...     ...     ...      ...     ...\n",
       "5602  2023-08-10   11835    118412  119438  118113   12,69M  -0,05%\n",
       "5603  2023-08-11  118065     11835  119054  117415   11,87M  -0,24%\n",
       "5604  2023-08-14   11681    118067  118082   11653   11,20M  -1,06%\n",
       "5605  2023-08-15  116171    116809  117697  116033   14,64M  -0,55%\n",
       "5606  2023-08-16  115592    116171  117338  115534   18,86M  -0,50%\n",
       "\n",
       "[5607 rows x 7 columns]"
      ]
     },
     "execution_count": 16,
     "metadata": {},
     "output_type": "execute_result"
    }
   ],
   "source": [
    "df = pd.read_csv('../data/Dados Históricos 2000-2023 - Ibovespa.csv', sep=',', decimal=',',thousands='.')\n",
    "df"
   ]
  },
  {
   "cell_type": "code",
   "execution_count": 17,
   "metadata": {},
   "outputs": [
    {
     "data": {
      "text/plain": [
       "(5607, 7)"
      ]
     },
     "execution_count": 17,
     "metadata": {},
     "output_type": "execute_result"
    }
   ],
   "source": [
    "df.shape"
   ]
  },
  {
   "cell_type": "code",
   "execution_count": 18,
   "metadata": {},
   "outputs": [
    {
     "name": "stdout",
     "output_type": "stream",
     "text": [
      "<class 'pandas.core.frame.DataFrame'>\n",
      "RangeIndex: 5607 entries, 0 to 5606\n",
      "Data columns (total 7 columns):\n",
      " #   Column    Non-Null Count  Dtype \n",
      "---  ------    --------------  ----- \n",
      " 0   Data      5607 non-null   object\n",
      " 1   Último    5607 non-null   int64 \n",
      " 2   Abertura  5607 non-null   int64 \n",
      " 3   Máxima    5607 non-null   int64 \n",
      " 4   Mínima    5607 non-null   int64 \n",
      " 5   Vol.      5606 non-null   object\n",
      " 6   Var%      5607 non-null   object\n",
      "dtypes: int64(4), object(3)\n",
      "memory usage: 306.8+ KB\n"
     ]
    }
   ],
   "source": [
    "df.info()"
   ]
  },
  {
   "cell_type": "code",
   "execution_count": 19,
   "metadata": {},
   "outputs": [
    {
     "name": "stdout",
     "output_type": "stream",
     "text": [
      "Data mais antiga:  2000-12-27\n",
      "Data mais recente:  2023-08-16\n"
     ]
    }
   ],
   "source": [
    "#print data mais antiga e mais recente\n",
    "print(\"Data mais antiga: \", df['Data'].min())\n",
    "print(\"Data mais recente: \", df['Data'].max())"
   ]
  },
  {
   "cell_type": "code",
   "execution_count": 20,
   "metadata": {},
   "outputs": [],
   "source": [
    "#crate a new column with the name value that has the same content that the column Último\n",
    "df['value'] = df['Último']"
   ]
  },
  {
   "cell_type": "code",
   "execution_count": 21,
   "metadata": {},
   "outputs": [],
   "source": [
    "#change the name of the column Data to date \n",
    "df.rename(columns={'Data': 'date'}, inplace=True)"
   ]
  },
  {
   "cell_type": "code",
   "execution_count": 22,
   "metadata": {},
   "outputs": [
    {
     "data": {
      "text/plain": [
       "date     object\n",
       "value     int64\n",
       "dtype: object"
      ]
     },
     "execution_count": 22,
     "metadata": {},
     "output_type": "execute_result"
    }
   ],
   "source": [
    "#check only the type of the columns Data and value\n",
    "df[['date', 'value']].dtypes"
   ]
  },
  {
   "cell_type": "code",
   "execution_count": 23,
   "metadata": {},
   "outputs": [
    {
     "data": {
      "text/plain": [
       "(5607, 8)"
      ]
     },
     "execution_count": 23,
     "metadata": {},
     "output_type": "execute_result"
    }
   ],
   "source": [
    "df.shape"
   ]
  },
  {
   "cell_type": "code",
   "execution_count": 24,
   "metadata": {},
   "outputs": [
    {
     "data": {
      "text/html": [
       "<div>\n",
       "<style scoped>\n",
       "    .dataframe tbody tr th:only-of-type {\n",
       "        vertical-align: middle;\n",
       "    }\n",
       "\n",
       "    .dataframe tbody tr th {\n",
       "        vertical-align: top;\n",
       "    }\n",
       "\n",
       "    .dataframe thead th {\n",
       "        text-align: right;\n",
       "    }\n",
       "</style>\n",
       "<table border=\"1\" class=\"dataframe\">\n",
       "  <thead>\n",
       "    <tr style=\"text-align: right;\">\n",
       "      <th></th>\n",
       "      <th>date</th>\n",
       "      <th>Último</th>\n",
       "      <th>Abertura</th>\n",
       "      <th>Máxima</th>\n",
       "      <th>Mínima</th>\n",
       "      <th>Vol.</th>\n",
       "      <th>Var%</th>\n",
       "      <th>value</th>\n",
       "    </tr>\n",
       "  </thead>\n",
       "  <tbody>\n",
       "    <tr>\n",
       "      <th>0</th>\n",
       "      <td>2000-12-27</td>\n",
       "      <td>15186</td>\n",
       "      <td>14805</td>\n",
       "      <td>15223</td>\n",
       "      <td>14805</td>\n",
       "      <td>239,98M</td>\n",
       "      <td>2,65%</td>\n",
       "      <td>15186</td>\n",
       "    </tr>\n",
       "    <tr>\n",
       "      <th>1</th>\n",
       "      <td>2000-12-28</td>\n",
       "      <td>15259</td>\n",
       "      <td>15188</td>\n",
       "      <td>15269</td>\n",
       "      <td>15132</td>\n",
       "      <td>324,26M</td>\n",
       "      <td>0,48%</td>\n",
       "      <td>15259</td>\n",
       "    </tr>\n",
       "    <tr>\n",
       "      <th>2</th>\n",
       "      <td>2001-01-02</td>\n",
       "      <td>15425</td>\n",
       "      <td>15242</td>\n",
       "      <td>15621</td>\n",
       "      <td>15174</td>\n",
       "      <td>230,63M</td>\n",
       "      <td>1,09%</td>\n",
       "      <td>15425</td>\n",
       "    </tr>\n",
       "    <tr>\n",
       "      <th>3</th>\n",
       "      <td>2001-01-03</td>\n",
       "      <td>16599</td>\n",
       "      <td>15425</td>\n",
       "      <td>16599</td>\n",
       "      <td>15251</td>\n",
       "      <td>381,20M</td>\n",
       "      <td>7,61%</td>\n",
       "      <td>16599</td>\n",
       "    </tr>\n",
       "    <tr>\n",
       "      <th>4</th>\n",
       "      <td>2001-01-04</td>\n",
       "      <td>16675</td>\n",
       "      <td>16597</td>\n",
       "      <td>16933</td>\n",
       "      <td>16587</td>\n",
       "      <td>331,23M</td>\n",
       "      <td>0,46%</td>\n",
       "      <td>16675</td>\n",
       "    </tr>\n",
       "    <tr>\n",
       "      <th>...</th>\n",
       "      <td>...</td>\n",
       "      <td>...</td>\n",
       "      <td>...</td>\n",
       "      <td>...</td>\n",
       "      <td>...</td>\n",
       "      <td>...</td>\n",
       "      <td>...</td>\n",
       "      <td>...</td>\n",
       "    </tr>\n",
       "    <tr>\n",
       "      <th>5602</th>\n",
       "      <td>2023-08-10</td>\n",
       "      <td>11835</td>\n",
       "      <td>118412</td>\n",
       "      <td>119438</td>\n",
       "      <td>118113</td>\n",
       "      <td>12,69M</td>\n",
       "      <td>-0,05%</td>\n",
       "      <td>11835</td>\n",
       "    </tr>\n",
       "    <tr>\n",
       "      <th>5603</th>\n",
       "      <td>2023-08-11</td>\n",
       "      <td>118065</td>\n",
       "      <td>11835</td>\n",
       "      <td>119054</td>\n",
       "      <td>117415</td>\n",
       "      <td>11,87M</td>\n",
       "      <td>-0,24%</td>\n",
       "      <td>118065</td>\n",
       "    </tr>\n",
       "    <tr>\n",
       "      <th>5604</th>\n",
       "      <td>2023-08-14</td>\n",
       "      <td>11681</td>\n",
       "      <td>118067</td>\n",
       "      <td>118082</td>\n",
       "      <td>11653</td>\n",
       "      <td>11,20M</td>\n",
       "      <td>-1,06%</td>\n",
       "      <td>11681</td>\n",
       "    </tr>\n",
       "    <tr>\n",
       "      <th>5605</th>\n",
       "      <td>2023-08-15</td>\n",
       "      <td>116171</td>\n",
       "      <td>116809</td>\n",
       "      <td>117697</td>\n",
       "      <td>116033</td>\n",
       "      <td>14,64M</td>\n",
       "      <td>-0,55%</td>\n",
       "      <td>116171</td>\n",
       "    </tr>\n",
       "    <tr>\n",
       "      <th>5606</th>\n",
       "      <td>2023-08-16</td>\n",
       "      <td>115592</td>\n",
       "      <td>116171</td>\n",
       "      <td>117338</td>\n",
       "      <td>115534</td>\n",
       "      <td>18,86M</td>\n",
       "      <td>-0,50%</td>\n",
       "      <td>115592</td>\n",
       "    </tr>\n",
       "  </tbody>\n",
       "</table>\n",
       "<p>5607 rows × 8 columns</p>\n",
       "</div>"
      ],
      "text/plain": [
       "            date  Último  Abertura  Máxima  Mínima     Vol.    Var%   value\n",
       "0     2000-12-27   15186     14805   15223   14805  239,98M   2,65%   15186\n",
       "1     2000-12-28   15259     15188   15269   15132  324,26M   0,48%   15259\n",
       "2     2001-01-02   15425     15242   15621   15174  230,63M   1,09%   15425\n",
       "3     2001-01-03   16599     15425   16599   15251  381,20M   7,61%   16599\n",
       "4     2001-01-04   16675     16597   16933   16587  331,23M   0,46%   16675\n",
       "...          ...     ...       ...     ...     ...      ...     ...     ...\n",
       "5602  2023-08-10   11835    118412  119438  118113   12,69M  -0,05%   11835\n",
       "5603  2023-08-11  118065     11835  119054  117415   11,87M  -0,24%  118065\n",
       "5604  2023-08-14   11681    118067  118082   11653   11,20M  -1,06%   11681\n",
       "5605  2023-08-15  116171    116809  117697  116033   14,64M  -0,55%  116171\n",
       "5606  2023-08-16  115592    116171  117338  115534   18,86M  -0,50%  115592\n",
       "\n",
       "[5607 rows x 8 columns]"
      ]
     },
     "execution_count": 24,
     "metadata": {},
     "output_type": "execute_result"
    }
   ],
   "source": [
    "df"
   ]
  },
  {
   "cell_type": "code",
   "execution_count": 25,
   "metadata": {},
   "outputs": [
    {
     "name": "stdout",
     "output_type": "stream",
     "text": [
      "<class 'pandas.core.frame.DataFrame'>\n",
      "RangeIndex: 5607 entries, 0 to 5606\n",
      "Data columns (total 8 columns):\n",
      " #   Column    Non-Null Count  Dtype \n",
      "---  ------    --------------  ----- \n",
      " 0   date      5607 non-null   object\n",
      " 1   Último    5607 non-null   int64 \n",
      " 2   Abertura  5607 non-null   int64 \n",
      " 3   Máxima    5607 non-null   int64 \n",
      " 4   Mínima    5607 non-null   int64 \n",
      " 5   Vol.      5606 non-null   object\n",
      " 6   Var%      5607 non-null   object\n",
      " 7   value     5607 non-null   int64 \n",
      "dtypes: int64(5), object(3)\n",
      "memory usage: 350.6+ KB\n"
     ]
    }
   ],
   "source": [
    "df.info()"
   ]
  },
  {
   "cell_type": "code",
   "execution_count": 26,
   "metadata": {},
   "outputs": [],
   "source": [
    "#save the new dataframe in a csv file\n",
    "df.to_csv('../data/ibovespa.csv', index=False)"
   ]
  },
  {
   "cell_type": "code",
   "execution_count": null,
   "metadata": {},
   "outputs": [],
   "source": []
  }
 ],
 "metadata": {
  "kernelspec": {
   "display_name": ".venv",
   "language": "python",
   "name": "python3"
  },
  "language_info": {
   "codemirror_mode": {
    "name": "ipython",
    "version": 3
   },
   "file_extension": ".py",
   "mimetype": "text/x-python",
   "name": "python",
   "nbconvert_exporter": "python",
   "pygments_lexer": "ipython3",
   "version": "3.11.3"
  },
  "orig_nbformat": 4
 },
 "nbformat": 4,
 "nbformat_minor": 2
}
