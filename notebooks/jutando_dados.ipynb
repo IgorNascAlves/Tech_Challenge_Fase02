{
 "cells": [
  {
   "cell_type": "code",
   "execution_count": 1,
   "metadata": {},
   "outputs": [],
   "source": [
    "import pandas as pd"
   ]
  },
  {
   "cell_type": "code",
   "execution_count": 2,
   "metadata": {},
   "outputs": [],
   "source": [
    "path1 = '../data/Dados Históricos 2000-2013 - Ibovespa.csv'\n",
    "path2 = '../data/Dados Históricos 2013-2023 - Ibovespa.csv'"
   ]
  },
  {
   "cell_type": "code",
   "execution_count": 4,
   "metadata": {},
   "outputs": [],
   "source": [
    "df1 = pd.read_csv(path1)\n",
    "df2 = pd.read_csv(path2)"
   ]
  },
  {
   "cell_type": "code",
   "execution_count": 7,
   "metadata": {},
   "outputs": [
    {
     "name": "stdout",
     "output_type": "stream",
     "text": [
      "13\n"
     ]
    },
    {
     "data": {
      "text/plain": [
       "[2012, 2011, 2010, 2009, 2008, 2007, 2006, 2005, 2004, 2003, 2002, 2001, 2000]"
      ]
     },
     "execution_count": 7,
     "metadata": {},
     "output_type": "execute_result"
    }
   ],
   "source": [
    "#transformar a coluna data em datetime dia?mes?ano\n",
    "df1['Data'] = pd.to_datetime(df1['Data'], format='%d.%m.%Y')\n",
    "print(len(df1['Data'].dt.year.unique().tolist()))\n",
    "df1['Data'].dt.year.unique().tolist()"
   ]
  },
  {
   "cell_type": "code",
   "execution_count": 8,
   "metadata": {},
   "outputs": [
    {
     "name": "stdout",
     "output_type": "stream",
     "text": [
      "11\n"
     ]
    },
    {
     "data": {
      "text/plain": [
       "[2023, 2022, 2021, 2020, 2019, 2018, 2017, 2016, 2015, 2014, 2013]"
      ]
     },
     "execution_count": 8,
     "metadata": {},
     "output_type": "execute_result"
    }
   ],
   "source": [
    "#transformar a coluna data em datetime dia?mes?ano\n",
    "df2['Data'] = pd.to_datetime(df2['Data'], format='%d.%m.%Y')\n",
    "print(len(df2['Data'].dt.year.unique().tolist()))\n",
    "df2['Data'].dt.year.unique().tolist()"
   ]
  },
  {
   "cell_type": "code",
   "execution_count": 14,
   "metadata": {},
   "outputs": [
    {
     "data": {
      "text/plain": [
       "(2974, 7)"
      ]
     },
     "execution_count": 14,
     "metadata": {},
     "output_type": "execute_result"
    }
   ],
   "source": [
    "df1.shape"
   ]
  },
  {
   "cell_type": "code",
   "execution_count": 13,
   "metadata": {},
   "outputs": [
    {
     "data": {
      "text/plain": [
       "(2633, 7)"
      ]
     },
     "execution_count": 13,
     "metadata": {},
     "output_type": "execute_result"
    }
   ],
   "source": [
    "df2.shape"
   ]
  },
  {
   "cell_type": "code",
   "execution_count": 16,
   "metadata": {},
   "outputs": [
    {
     "data": {
      "text/plain": [
       "5607"
      ]
     },
     "execution_count": 16,
     "metadata": {},
     "output_type": "execute_result"
    }
   ],
   "source": [
    "df1.shape[0] + df2.shape[0]"
   ]
  },
  {
   "cell_type": "code",
   "execution_count": 17,
   "metadata": {},
   "outputs": [
    {
     "data": {
      "text/plain": [
       "5607"
      ]
     },
     "execution_count": 17,
     "metadata": {},
     "output_type": "execute_result"
    }
   ],
   "source": [
    "df3.shape[0]"
   ]
  },
  {
   "cell_type": "code",
   "execution_count": 12,
   "metadata": {},
   "outputs": [
    {
     "name": "stdout",
     "output_type": "stream",
     "text": [
      "24\n"
     ]
    },
    {
     "data": {
      "text/plain": [
       "[2000,\n",
       " 2001,\n",
       " 2002,\n",
       " 2003,\n",
       " 2004,\n",
       " 2005,\n",
       " 2006,\n",
       " 2007,\n",
       " 2008,\n",
       " 2009,\n",
       " 2010,\n",
       " 2011,\n",
       " 2012,\n",
       " 2013,\n",
       " 2014,\n",
       " 2015,\n",
       " 2016,\n",
       " 2017,\n",
       " 2018,\n",
       " 2019,\n",
       " 2020,\n",
       " 2021,\n",
       " 2022,\n",
       " 2023]"
      ]
     },
     "execution_count": 12,
     "metadata": {},
     "output_type": "execute_result"
    }
   ],
   "source": [
    "#concat df1 e df2\n",
    "df3 = pd.concat([df1,df2])\n",
    "print(len(df3['Data'].dt.year.unique().tolist()))\n",
    "sorted(df3['Data'].dt.year.unique().tolist())"
   ]
  },
  {
   "cell_type": "code",
   "execution_count": 20,
   "metadata": {},
   "outputs": [],
   "source": [
    "df3.sort_values(by='Data', inplace=True)"
   ]
  },
  {
   "cell_type": "code",
   "execution_count": 21,
   "metadata": {},
   "outputs": [],
   "source": [
    "df3.to_csv('../data/Dados Históricos 2000-2023 - Ibovespa.csv', index=False)"
   ]
  },
  {
   "cell_type": "code",
   "execution_count": 23,
   "metadata": {},
   "outputs": [
    {
     "data": {
      "text/html": [
       "<div>\n",
       "<style scoped>\n",
       "    .dataframe tbody tr th:only-of-type {\n",
       "        vertical-align: middle;\n",
       "    }\n",
       "\n",
       "    .dataframe tbody tr th {\n",
       "        vertical-align: top;\n",
       "    }\n",
       "\n",
       "    .dataframe thead th {\n",
       "        text-align: right;\n",
       "    }\n",
       "</style>\n",
       "<table border=\"1\" class=\"dataframe\">\n",
       "  <thead>\n",
       "    <tr style=\"text-align: right;\">\n",
       "      <th></th>\n",
       "      <th>Data</th>\n",
       "      <th>Último</th>\n",
       "      <th>Abertura</th>\n",
       "      <th>Máxima</th>\n",
       "      <th>Mínima</th>\n",
       "      <th>Vol.</th>\n",
       "      <th>Var%</th>\n",
       "    </tr>\n",
       "  </thead>\n",
       "  <tbody>\n",
       "    <tr>\n",
       "      <th>0</th>\n",
       "      <td>2000-12-27</td>\n",
       "      <td>15.186</td>\n",
       "      <td>14.805</td>\n",
       "      <td>15.223</td>\n",
       "      <td>14.805</td>\n",
       "      <td>239,98M</td>\n",
       "      <td>2,65%</td>\n",
       "    </tr>\n",
       "    <tr>\n",
       "      <th>1</th>\n",
       "      <td>2000-12-28</td>\n",
       "      <td>15.259</td>\n",
       "      <td>15.188</td>\n",
       "      <td>15.269</td>\n",
       "      <td>15.132</td>\n",
       "      <td>324,26M</td>\n",
       "      <td>0,48%</td>\n",
       "    </tr>\n",
       "    <tr>\n",
       "      <th>2</th>\n",
       "      <td>2001-01-02</td>\n",
       "      <td>15.425</td>\n",
       "      <td>15.242</td>\n",
       "      <td>15.621</td>\n",
       "      <td>15.174</td>\n",
       "      <td>230,63M</td>\n",
       "      <td>1,09%</td>\n",
       "    </tr>\n",
       "    <tr>\n",
       "      <th>3</th>\n",
       "      <td>2001-01-03</td>\n",
       "      <td>16.599</td>\n",
       "      <td>15.425</td>\n",
       "      <td>16.599</td>\n",
       "      <td>15.251</td>\n",
       "      <td>381,20M</td>\n",
       "      <td>7,61%</td>\n",
       "    </tr>\n",
       "    <tr>\n",
       "      <th>4</th>\n",
       "      <td>2001-01-04</td>\n",
       "      <td>16.675</td>\n",
       "      <td>16.597</td>\n",
       "      <td>16.933</td>\n",
       "      <td>16.587</td>\n",
       "      <td>331,23M</td>\n",
       "      <td>0,46%</td>\n",
       "    </tr>\n",
       "    <tr>\n",
       "      <th>...</th>\n",
       "      <td>...</td>\n",
       "      <td>...</td>\n",
       "      <td>...</td>\n",
       "      <td>...</td>\n",
       "      <td>...</td>\n",
       "      <td>...</td>\n",
       "      <td>...</td>\n",
       "    </tr>\n",
       "    <tr>\n",
       "      <th>5602</th>\n",
       "      <td>2023-08-10</td>\n",
       "      <td>118.350</td>\n",
       "      <td>118.412</td>\n",
       "      <td>119.438</td>\n",
       "      <td>118.113</td>\n",
       "      <td>12,69M</td>\n",
       "      <td>-0,05%</td>\n",
       "    </tr>\n",
       "    <tr>\n",
       "      <th>5603</th>\n",
       "      <td>2023-08-11</td>\n",
       "      <td>118.065</td>\n",
       "      <td>118.350</td>\n",
       "      <td>119.054</td>\n",
       "      <td>117.415</td>\n",
       "      <td>11,87M</td>\n",
       "      <td>-0,24%</td>\n",
       "    </tr>\n",
       "    <tr>\n",
       "      <th>5604</th>\n",
       "      <td>2023-08-14</td>\n",
       "      <td>116.810</td>\n",
       "      <td>118.067</td>\n",
       "      <td>118.082</td>\n",
       "      <td>116.530</td>\n",
       "      <td>11,20M</td>\n",
       "      <td>-1,06%</td>\n",
       "    </tr>\n",
       "    <tr>\n",
       "      <th>5605</th>\n",
       "      <td>2023-08-15</td>\n",
       "      <td>116.171</td>\n",
       "      <td>116.809</td>\n",
       "      <td>117.697</td>\n",
       "      <td>116.033</td>\n",
       "      <td>14,64M</td>\n",
       "      <td>-0,55%</td>\n",
       "    </tr>\n",
       "    <tr>\n",
       "      <th>5606</th>\n",
       "      <td>2023-08-16</td>\n",
       "      <td>115.592</td>\n",
       "      <td>116.171</td>\n",
       "      <td>117.338</td>\n",
       "      <td>115.534</td>\n",
       "      <td>18,86M</td>\n",
       "      <td>-0,50%</td>\n",
       "    </tr>\n",
       "  </tbody>\n",
       "</table>\n",
       "<p>5607 rows × 7 columns</p>\n",
       "</div>"
      ],
      "text/plain": [
       "            Data   Último  Abertura   Máxima   Mínima     Vol.    Var%\n",
       "0     2000-12-27   15.186    14.805   15.223   14.805  239,98M   2,65%\n",
       "1     2000-12-28   15.259    15.188   15.269   15.132  324,26M   0,48%\n",
       "2     2001-01-02   15.425    15.242   15.621   15.174  230,63M   1,09%\n",
       "3     2001-01-03   16.599    15.425   16.599   15.251  381,20M   7,61%\n",
       "4     2001-01-04   16.675    16.597   16.933   16.587  331,23M   0,46%\n",
       "...          ...      ...       ...      ...      ...      ...     ...\n",
       "5602  2023-08-10  118.350   118.412  119.438  118.113   12,69M  -0,05%\n",
       "5603  2023-08-11  118.065   118.350  119.054  117.415   11,87M  -0,24%\n",
       "5604  2023-08-14  116.810   118.067  118.082  116.530   11,20M  -1,06%\n",
       "5605  2023-08-15  116.171   116.809  117.697  116.033   14,64M  -0,55%\n",
       "5606  2023-08-16  115.592   116.171  117.338  115.534   18,86M  -0,50%\n",
       "\n",
       "[5607 rows x 7 columns]"
      ]
     },
     "execution_count": 23,
     "metadata": {},
     "output_type": "execute_result"
    }
   ],
   "source": [
    "df_merge = pd.read_csv('../data/Dados Históricos 2000-2023 - Ibovespa.csv')\n",
    "df_merge"
   ]
  }
 ],
 "metadata": {
  "kernelspec": {
   "display_name": ".venv",
   "language": "python",
   "name": "python3"
  },
  "language_info": {
   "codemirror_mode": {
    "name": "ipython",
    "version": 3
   },
   "file_extension": ".py",
   "mimetype": "text/x-python",
   "name": "python",
   "nbconvert_exporter": "python",
   "pygments_lexer": "ipython3",
   "version": "3.11.3"
  },
  "orig_nbformat": 4
 },
 "nbformat": 4,
 "nbformat_minor": 2
}
